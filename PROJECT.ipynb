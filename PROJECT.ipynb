{
  "nbformat": 4,
  "nbformat_minor": 0,
  "metadata": {
    "colab": {
      "provenance": []
    },
    "kernelspec": {
      "name": "python3",
      "display_name": "Python 3"
    },
    "language_info": {
      "name": "python"
    }
  },
  "cells": [
    {
      "cell_type": "code",
      "execution_count": null,
      "metadata": {
        "colab": {
          "base_uri": "https://localhost:8080/"
        },
        "id": "ga1W-Y1rRMWl",
        "outputId": "2b33d180-a51d-416a-d25a-db9510c00d15"
      },
      "outputs": [
        {
          "output_type": "stream",
          "name": "stdout",
          "text": [
            "Mounted at /content/drive\n"
          ]
        }
      ],
      "source": [
        "from google.colab import drive\n",
        "drive.mount('/content/drive')\n"
      ]
    },
    {
      "cell_type": "code",
      "source": [
        "import numpy as np\n",
        "import tensorflow as tf\n",
        "from tensorflow.keras.models import Sequential\n",
        "from tensorflow.keras.layers import Dense\n",
        "from tensorflow.keras.activations import linear, relu, sigmoid\n",
        "import matplotlib.pyplot as plt\n",
        "\n",
        "# If using GPU, TensorFlow will allocate memory on demand.\n",
        "gpus = tf.config.experimental.list_physical_devices('GPU')\n",
        "if gpus:\n",
        "    try:\n",
        "        for gpu in gpus:\n",
        "            tf.config.experimental.set_memory_growth(gpu, True)  # Enable memory growth\n",
        "            tf.config.experimental.set_virtual_device_configuration(\n",
        "                gpu,\n",
        "                [tf.config.experimental.VirtualDeviceConfiguration(memory_limit=0.8 * 1024)]\n",
        "            )\n",
        "    except RuntimeError as e:\n",
        "        print(e)\n",
        "# import numpy as np\n",
        "# import tensorflow as tf\n",
        "# config = tf.compat.v1.ConfigProto(gpu_options =\n",
        "#                          tf.compat.v1.GPUOptions(per_process_gpu_memory_fraction=0.8)\n",
        "# # device_count = {'GPU': 1}\n",
        "# )\n",
        "# config.gpu_options.allow_growth = True\n",
        "# session = tf.compat.v1.Session(config=config)\n",
        "# tf.compat.v1.keras.backend.set_session(session)\n",
        "# from tensorflow.keras.models import Sequential\n",
        "# from tensorflow.keras.layers import Dense\n",
        "# from tensorflow.keras.activations import linear, relu, sigmoid\n",
        "# import matplotlib.pyplot as plt"
      ],
      "metadata": {
        "id": "R2IbRJncSJ9w"
      },
      "execution_count": null,
      "outputs": []
    },
    {
      "cell_type": "code",
      "source": [
        "#load the train data\n",
        "X = np.load(\"/content/drive/MyDrive/digit/data/handsignX.npy\")\n",
        "y = np.load(\"/content/drive/MyDrive/digit/data/handsigny.npy\")\n",
        "print ('The first element of X is: ', X[0])\n",
        "print ('The first element of y is: ', y[0,0])\n",
        "print ('The last element of y is: ', y[-1,0])\n",
        "print ('The shape of X is: ' + str(X.shape))\n",
        "print ('The shape of y is: ' + str(y.shape))"
      ],
      "metadata": {
        "colab": {
          "base_uri": "https://localhost:8080/"
        },
        "id": "KX-cfTOSTGGG",
        "outputId": "1cb119ac-44fa-4d64-ddf3-08bcb7aa34c7"
      },
      "execution_count": null,
      "outputs": [
        {
          "output_type": "stream",
          "name": "stdout",
          "text": [
            "The first element of X is:  [ 0.00000000e+00  0.00000000e+00  0.00000000e+00  0.00000000e+00\n",
            "  0.00000000e+00  0.00000000e+00  0.00000000e+00  0.00000000e+00\n",
            "  0.00000000e+00  0.00000000e+00  0.00000000e+00  0.00000000e+00\n",
            "  0.00000000e+00  0.00000000e+00  0.00000000e+00  0.00000000e+00\n",
            "  0.00000000e+00  0.00000000e+00  0.00000000e+00  0.00000000e+00\n",
            "  0.00000000e+00  0.00000000e+00  0.00000000e+00  0.00000000e+00\n",
            "  0.00000000e+00  0.00000000e+00  0.00000000e+00  0.00000000e+00\n",
            "  0.00000000e+00  0.00000000e+00  0.00000000e+00  0.00000000e+00\n",
            "  0.00000000e+00  0.00000000e+00  0.00000000e+00  0.00000000e+00\n",
            "  0.00000000e+00  0.00000000e+00  0.00000000e+00  0.00000000e+00\n",
            "  0.00000000e+00  0.00000000e+00  0.00000000e+00  0.00000000e+00\n",
            "  0.00000000e+00  0.00000000e+00  0.00000000e+00  0.00000000e+00\n",
            "  0.00000000e+00  0.00000000e+00  0.00000000e+00  0.00000000e+00\n",
            "  0.00000000e+00  0.00000000e+00  0.00000000e+00  0.00000000e+00\n",
            "  0.00000000e+00  0.00000000e+00  0.00000000e+00  0.00000000e+00\n",
            "  0.00000000e+00  0.00000000e+00  0.00000000e+00  0.00000000e+00\n",
            "  0.00000000e+00  0.00000000e+00  0.00000000e+00  8.56059680e-06\n",
            "  1.94035948e-06 -7.37438725e-04 -8.13403799e-03 -1.86104473e-02\n",
            " -1.87412865e-02 -1.87572508e-02 -1.90963542e-02 -1.64039011e-02\n",
            " -3.78191381e-03  3.30347316e-04  1.27655229e-05  0.00000000e+00\n",
            "  0.00000000e+00  0.00000000e+00  0.00000000e+00  0.00000000e+00\n",
            "  0.00000000e+00  0.00000000e+00  1.16421569e-04  1.20052179e-04\n",
            " -1.40444581e-02 -2.84542484e-02  8.03826593e-02  2.66540339e-01\n",
            "  2.73853746e-01  2.78729541e-01  2.74293607e-01  2.24676403e-01\n",
            "  2.77562977e-02 -7.06315478e-03  2.34715414e-04  0.00000000e+00\n",
            "  0.00000000e+00  0.00000000e+00  0.00000000e+00  0.00000000e+00\n",
            "  0.00000000e+00  1.28335523e-17 -3.26286765e-04 -1.38651604e-02\n",
            "  8.15651552e-02  3.82800381e-01  8.57849775e-01  1.00109761e+00\n",
            "  9.69710638e-01  9.30928598e-01  1.00383757e+00  9.64157356e-01\n",
            "  4.49256553e-01 -5.60408259e-03 -3.78319036e-03  0.00000000e+00\n",
            "  0.00000000e+00  0.00000000e+00  0.00000000e+00  5.10620915e-06\n",
            "  4.36410675e-04 -3.95509940e-03 -2.68537241e-02  1.00755014e-01\n",
            "  6.42031710e-01  1.03136838e+00  8.50968614e-01  5.43122379e-01\n",
            "  3.42599738e-01  2.68918777e-01  6.68374643e-01  1.01256958e+00\n",
            "  9.03795598e-01  1.04481574e-01 -1.66424973e-02  0.00000000e+00\n",
            "  0.00000000e+00  0.00000000e+00  0.00000000e+00  2.59875260e-05\n",
            " -3.10606987e-03  7.52456076e-03  1.77539831e-01  7.92890120e-01\n",
            "  9.65626503e-01  4.63166079e-01  6.91720680e-02 -3.64100526e-03\n",
            " -4.12180405e-02 -5.01900656e-02  1.56102907e-01  9.01762651e-01\n",
            "  1.04748346e+00  1.51055252e-01 -2.16044665e-02  0.00000000e+00\n",
            "  0.00000000e+00  0.00000000e+00  5.87012352e-05 -6.40931373e-04\n",
            " -3.23305249e-02  2.78203465e-01  9.36720163e-01  1.04320956e+00\n",
            "  5.98003217e-01 -3.59409041e-03 -2.16751770e-02 -4.81021923e-03\n",
            "  6.16566793e-05 -1.23773318e-02  1.55477482e-01  9.14867477e-01\n",
            "  9.20401348e-01  1.09173902e-01 -1.71058007e-02  0.00000000e+00\n",
            "  0.00000000e+00  1.56250000e-04 -4.27724104e-04 -2.51466503e-02\n",
            "  1.30532561e-01  7.81664862e-01  1.02836583e+00  7.57137601e-01\n",
            "  2.84667194e-01  4.86865128e-03 -3.18688725e-03  0.00000000e+00\n",
            "  8.36492601e-04 -3.70751123e-02  4.52644165e-01  1.03180133e+00\n",
            "  5.39028101e-01 -2.43742611e-03 -4.80290033e-03  0.00000000e+00\n",
            "  0.00000000e+00 -7.03635621e-04 -1.27262443e-02  1.61706648e-01\n",
            "  7.79865383e-01  1.03676705e+00  8.04490400e-01  1.60586724e-01\n",
            " -1.38173339e-02  2.14879493e-03 -2.12622549e-04  2.04248366e-04\n",
            " -6.85907627e-03  4.31712963e-04  7.20680947e-01  8.48136063e-01\n",
            "  1.51383408e-01 -2.28404366e-02  1.98971950e-04  0.00000000e+00\n",
            "  0.00000000e+00 -9.40410539e-03  3.74520505e-02  6.94389110e-01\n",
            "  1.02844844e+00  1.01648066e+00  8.80488426e-01  3.92123945e-01\n",
            " -1.74122413e-02 -1.20098039e-04  5.55215142e-05 -2.23907271e-03\n",
            " -2.76068376e-02  3.68645493e-01  9.36411169e-01  4.59006723e-01\n",
            " -4.24701797e-02  1.17356610e-03  1.88929739e-05  0.00000000e+00\n",
            "  0.00000000e+00 -1.93511951e-02  1.29999794e-01  9.79821705e-01\n",
            "  9.41862388e-01  7.75147704e-01  8.73632241e-01  2.12778350e-01\n",
            " -1.72353349e-02  0.00000000e+00  1.09937426e-03 -2.61793751e-02\n",
            "  1.22872879e-01  8.30812662e-01  7.26501773e-01  5.24441863e-02\n",
            " -6.18971913e-03  0.00000000e+00  0.00000000e+00  0.00000000e+00\n",
            "  0.00000000e+00 -9.36563862e-03  3.68349741e-02  6.99079299e-01\n",
            "  1.00293583e+00  6.05704402e-01  3.27299224e-01 -3.22099249e-02\n",
            " -4.83053002e-02 -4.34069138e-02 -5.75151144e-02  9.55674190e-02\n",
            "  7.26512627e-01  6.95366966e-01  1.47114481e-01 -1.20048679e-02\n",
            " -3.02798203e-04  0.00000000e+00  0.00000000e+00  0.00000000e+00\n",
            "  0.00000000e+00 -6.76572712e-04 -6.51415556e-03  1.17339359e-01\n",
            "  4.21948410e-01  9.93210937e-01  8.82013974e-01  7.45758734e-01\n",
            "  7.23874268e-01  7.23341725e-01  7.20020340e-01  8.45324959e-01\n",
            "  8.31859739e-01  6.88831870e-02 -2.77765012e-02  3.59136710e-04\n",
            "  7.14869281e-05  0.00000000e+00  0.00000000e+00  0.00000000e+00\n",
            "  0.00000000e+00  1.53186275e-04  3.17353553e-04 -2.29167177e-02\n",
            " -4.14402914e-03  3.87038450e-01  5.04583435e-01  7.74885876e-01\n",
            "  9.90037446e-01  1.00769478e+00  1.00851440e+00  7.37905042e-01\n",
            "  2.15455291e-01 -2.69624864e-02  1.32506127e-03  0.00000000e+00\n",
            "  0.00000000e+00  0.00000000e+00  0.00000000e+00  0.00000000e+00\n",
            "  0.00000000e+00  0.00000000e+00  0.00000000e+00  2.36366422e-04\n",
            " -2.26031454e-03 -2.51994485e-02 -3.73889910e-02  6.62121228e-02\n",
            "  2.91134498e-01  3.23055726e-01  3.06260315e-01  8.76070942e-02\n",
            " -2.50581917e-02  2.37438725e-04  0.00000000e+00  0.00000000e+00\n",
            "  0.00000000e+00  0.00000000e+00  0.00000000e+00  0.00000000e+00\n",
            "  0.00000000e+00  0.00000000e+00  0.00000000e+00  0.00000000e+00\n",
            "  0.00000000e+00  6.20939216e-18  6.72618320e-04 -1.13151411e-02\n",
            " -3.54641066e-02 -3.88214912e-02 -3.71077412e-02 -1.33524928e-02\n",
            "  9.90964718e-04  4.89176960e-05  0.00000000e+00  0.00000000e+00\n",
            "  0.00000000e+00  0.00000000e+00  0.00000000e+00  0.00000000e+00\n",
            "  0.00000000e+00  0.00000000e+00  0.00000000e+00  0.00000000e+00\n",
            "  0.00000000e+00  0.00000000e+00  0.00000000e+00  0.00000000e+00\n",
            "  0.00000000e+00  0.00000000e+00  0.00000000e+00  0.00000000e+00\n",
            "  0.00000000e+00  0.00000000e+00  0.00000000e+00  0.00000000e+00\n",
            "  0.00000000e+00  0.00000000e+00  0.00000000e+00  0.00000000e+00\n",
            "  0.00000000e+00  0.00000000e+00  0.00000000e+00  0.00000000e+00\n",
            "  0.00000000e+00  0.00000000e+00  0.00000000e+00  0.00000000e+00\n",
            "  0.00000000e+00  0.00000000e+00  0.00000000e+00  0.00000000e+00\n",
            "  0.00000000e+00  0.00000000e+00  0.00000000e+00  0.00000000e+00\n",
            "  0.00000000e+00  0.00000000e+00  0.00000000e+00  0.00000000e+00]\n",
            "The first element of y is:  0\n",
            "The last element of y is:  9\n",
            "The shape of X is: (5000, 400)\n",
            "The shape of y is: (5000, 1)\n"
          ]
        }
      ]
    },
    {
      "cell_type": "code",
      "source": [
        "import os\n",
        "from PIL import Image\n",
        "import numpy as np\n",
        "\n",
        "# Load the test data\n",
        "test_file = '/content/drive/MyDrive/digit/Tests'\n",
        "test_images = []\n",
        "y_test = []\n",
        "\n",
        "# List all files in the directory\n",
        "print(f\"Files in directory {test_file}:\")\n",
        "print(os.listdir(test_file))  # Print out all filenames to ensure they are correctly detected\n",
        "\n",
        "# Iterate through the subdirectories in the directory\n",
        "for subfolder in os.listdir(test_file):\n",
        "    subfolder_path = os.path.join(test_file, subfolder)\n",
        "\n",
        "    # Check if it's a directory\n",
        "    if os.path.isdir(subfolder_path):\n",
        "        print(f\"Found directory: {subfolder_path}\")\n",
        "\n",
        "        # Iterate through the files in the subdirectory\n",
        "        for filename in os.listdir(subfolder_path):\n",
        "            file_path = os.path.join(subfolder_path, filename)\n",
        "\n",
        "            # Check if it's a file and has a valid image extension\n",
        "            if os.path.isfile(file_path) and filename.lower().endswith(('.png', '.jpg', '.jpeg', '.bmp', '.gif')):\n",
        "                try:\n",
        "                    img = Image.open(file_path).convert('L')  # Convert image to grayscale\n",
        "                    img = img.resize((28, 28))  # Resize to 28x28\n",
        "                    test_images.append(np.array(img))  # Append the image array to the list\n",
        "\n",
        "                    # Extract the label from the subfolder name (assuming it's a digit in the filename)\n",
        "                    label = int(subfolder)  # Assuming subfolder name is the label\n",
        "                    y_test.append(label)\n",
        "\n",
        "                    # Debugging: Print the filename and shape of the processed image\n",
        "                    print(f\"Processed: {filename} from {subfolder}, Image shape: {img.size}, Label: {label}\")\n",
        "                except Exception as e:\n",
        "                    print(f\"Error processing {filename}: {e}\")\n",
        "            else:\n",
        "                print(f\"Skipping non-image or invalid file: {filename}\")\n",
        "\n",
        "# Convert the lists to numpy arrays\n",
        "x_test = np.array(test_images)\n",
        "y_test = np.array(y_test)\n",
        "\n",
        "# Debugging: Print the final shapes of x_test and y_test\n",
        "print(f\"x_test shape: {x_test.shape}\")\n",
        "print(f\"y_test shape: {y_test.shape}\")\n",
        "\n"
      ],
      "metadata": {
        "id": "ww6zDR4bUHX-",
        "colab": {
          "base_uri": "https://localhost:8080/"
        },
        "outputId": "466e210d-de99-4f6b-cfba-f68b738a6974"
      },
      "execution_count": null,
      "outputs": [
        {
          "output_type": "stream",
          "name": "stdout",
          "text": [
            "Files in directory /content/drive/MyDrive/digit/Tests:\n",
            "['5', '9', '1', '6', '7', '3', '8', '0', '2', '4']\n",
            "Found directory: /content/drive/MyDrive/digit/Tests/5\n",
            "Processed: WhatsApp Image 2024-10-15 at 10.53.47 PM (1).jpeg from 5, Image shape: (28, 28), Label: 5\n",
            "Processed: WhatsApp Image 2024-10-15 at 10.53.48 PM (3).jpeg from 5, Image shape: (28, 28), Label: 5\n",
            "Processed: WhatsApp Image 2024-10-15 at 10.53.53 PM (1).jpeg from 5, Image shape: (28, 28), Label: 5\n",
            "Processed: WhatsApp Image 2024-10-15 at 10.53.45 PM (2).jpeg from 5, Image shape: (28, 28), Label: 5\n",
            "Processed: WhatsApp Image 2024-10-15 at 10.53.46 PM.jpeg from 5, Image shape: (28, 28), Label: 5\n",
            "Processed: WhatsApp Image 2024-10-15 at 10.53.46 PM (3).jpeg from 5, Image shape: (28, 28), Label: 5\n",
            "Processed: WhatsApp Image 2024-10-15 at 10.53.47 PM.jpeg from 5, Image shape: (28, 28), Label: 5\n",
            "Processed: WhatsApp Image 2024-10-15 at 10.53.52 PM (2).jpeg from 5, Image shape: (28, 28), Label: 5\n",
            "Processed: WhatsApp Image 2024-10-15 at 10.53.53 PM (4).jpeg from 5, Image shape: (28, 28), Label: 5\n",
            "Processed: WhatsApp Image 2024-10-15 at 10.53.48 PM (2).jpeg from 5, Image shape: (28, 28), Label: 5\n",
            "Processed: WhatsApp Image 2024-10-15 at 10.53.46 PM (2).jpeg from 5, Image shape: (28, 28), Label: 5\n",
            "Processed: WhatsApp Image 2024-10-15 at 10.53.53 PM (3).jpeg from 5, Image shape: (28, 28), Label: 5\n",
            "Processed: WhatsApp Image 2024-10-15 at 10.53.49 PM (1).jpeg from 5, Image shape: (28, 28), Label: 5\n",
            "Processed: WhatsApp Image 2024-10-15 at 10.53.48 PM (4).jpeg from 5, Image shape: (28, 28), Label: 5\n",
            "Processed: WhatsApp Image 2024-10-15 at 10.53.50 PM.jpeg from 5, Image shape: (28, 28), Label: 5\n",
            "Processed: WhatsApp Image 2024-10-15 at 10.53.45 PM (3).jpeg from 5, Image shape: (28, 28), Label: 5\n",
            "Processed: WhatsApp Image 2024-10-15 at 10.53.53 PM (2).jpeg from 5, Image shape: (28, 28), Label: 5\n",
            "Processed: WhatsApp Image 2024-10-15 at 10.53.51 PM.jpeg from 5, Image shape: (28, 28), Label: 5\n",
            "Processed: WhatsApp Image 2024-10-15 at 10.53.45 PM (1).jpeg from 5, Image shape: (28, 28), Label: 5\n",
            "Processed: WhatsApp Image 2024-10-15 at 10.53.48 PM (1).jpeg from 5, Image shape: (28, 28), Label: 5\n",
            "Found directory: /content/drive/MyDrive/digit/Tests/9\n",
            "Processed: 915.jpg from 9, Image shape: (28, 28), Label: 9\n",
            "Processed: 98.jpg from 9, Image shape: (28, 28), Label: 9\n",
            "Processed: 93.jpg from 9, Image shape: (28, 28), Label: 9\n",
            "Processed: 917.jpg from 9, Image shape: (28, 28), Label: 9\n",
            "Processed: 918.jpg from 9, Image shape: (28, 28), Label: 9\n",
            "Processed: 920.jpg from 9, Image shape: (28, 28), Label: 9\n",
            "Processed: 97.jpg from 9, Image shape: (28, 28), Label: 9\n",
            "Processed: 919.jpg from 9, Image shape: (28, 28), Label: 9\n",
            "Processed: 916.jpg from 9, Image shape: (28, 28), Label: 9\n",
            "Processed: 94.jpg from 9, Image shape: (28, 28), Label: 9\n",
            "Processed: 96.jpg from 9, Image shape: (28, 28), Label: 9\n",
            "Processed: 913.jpg from 9, Image shape: (28, 28), Label: 9\n",
            "Processed: 91.jpg from 9, Image shape: (28, 28), Label: 9\n",
            "Processed: 914.jpg from 9, Image shape: (28, 28), Label: 9\n",
            "Processed: 92.jpg from 9, Image shape: (28, 28), Label: 9\n",
            "Processed: 95.jpg from 9, Image shape: (28, 28), Label: 9\n",
            "Processed: 911.jpg from 9, Image shape: (28, 28), Label: 9\n",
            "Processed: 912.jpg from 9, Image shape: (28, 28), Label: 9\n",
            "Processed: 910.jpg from 9, Image shape: (28, 28), Label: 9\n",
            "Processed: 99.jpg from 9, Image shape: (28, 28), Label: 9\n",
            "Found directory: /content/drive/MyDrive/digit/Tests/1\n",
            "Processed: 8.PNG from 1, Image shape: (28, 28), Label: 1\n",
            "Processed: 19.PNG from 1, Image shape: (28, 28), Label: 1\n",
            "Processed: 10.PNG from 1, Image shape: (28, 28), Label: 1\n",
            "Processed: 13.PNG from 1, Image shape: (28, 28), Label: 1\n",
            "Processed: 20.PNG from 1, Image shape: (28, 28), Label: 1\n",
            "Processed: 16.PNG from 1, Image shape: (28, 28), Label: 1\n",
            "Processed: 1.PNG from 1, Image shape: (28, 28), Label: 1\n",
            "Processed: 9.PNG from 1, Image shape: (28, 28), Label: 1\n",
            "Processed: 12.PNG from 1, Image shape: (28, 28), Label: 1\n",
            "Processed: 18.PNG from 1, Image shape: (28, 28), Label: 1\n",
            "Processed: 2.PNG from 1, Image shape: (28, 28), Label: 1\n",
            "Processed: 11.PNG from 1, Image shape: (28, 28), Label: 1\n",
            "Processed: 14.PNG from 1, Image shape: (28, 28), Label: 1\n",
            "Processed: 5.PNG from 1, Image shape: (28, 28), Label: 1\n",
            "Processed: 17.PNG from 1, Image shape: (28, 28), Label: 1\n",
            "Processed: 6.PNG from 1, Image shape: (28, 28), Label: 1\n",
            "Processed: 15.PNG from 1, Image shape: (28, 28), Label: 1\n",
            "Processed: 4.PNG from 1, Image shape: (28, 28), Label: 1\n",
            "Processed: 3.PNG from 1, Image shape: (28, 28), Label: 1\n",
            "Processed: 7.PNG from 1, Image shape: (28, 28), Label: 1\n",
            "Found directory: /content/drive/MyDrive/digit/Tests/6\n",
            "Processed: 613.jpg from 6, Image shape: (28, 28), Label: 6\n",
            "Processed: 619.jpg from 6, Image shape: (28, 28), Label: 6\n",
            "Processed: 620.jpg from 6, Image shape: (28, 28), Label: 6\n",
            "Processed: 68.jpg from 6, Image shape: (28, 28), Label: 6\n",
            "Processed: 611.jpg from 6, Image shape: (28, 28), Label: 6\n",
            "Processed: 617.jpg from 6, Image shape: (28, 28), Label: 6\n",
            "Processed: WhatsApp Image 2024-10-15 at 23.01.00_4e2c9f85.jpg from 6, Image shape: (28, 28), Label: 6\n",
            "Processed: 615.jpg from 6, Image shape: (28, 28), Label: 6\n",
            "Processed: 618.jpg from 6, Image shape: (28, 28), Label: 6\n",
            "Processed: 66.jpg from 6, Image shape: (28, 28), Label: 6\n",
            "Processed: 612.jpg from 6, Image shape: (28, 28), Label: 6\n",
            "Processed: 616.jpg from 6, Image shape: (28, 28), Label: 6\n",
            "Processed: 64.jpg from 6, Image shape: (28, 28), Label: 6\n",
            "Processed: 65.jpg from 6, Image shape: (28, 28), Label: 6\n",
            "Processed: 62.jpg from 6, Image shape: (28, 28), Label: 6\n",
            "Processed: 63.jpg from 6, Image shape: (28, 28), Label: 6\n",
            "Processed: 61.jpg from 6, Image shape: (28, 28), Label: 6\n",
            "Processed: 610.jpg from 6, Image shape: (28, 28), Label: 6\n",
            "Processed: 67.jpg from 6, Image shape: (28, 28), Label: 6\n",
            "Processed: 69.jpg from 6, Image shape: (28, 28), Label: 6\n",
            "Found directory: /content/drive/MyDrive/digit/Tests/7\n",
            "Processed: 712.jpg from 7, Image shape: (28, 28), Label: 7\n",
            "Processed: 79.jpg from 7, Image shape: (28, 28), Label: 7\n",
            "Processed: 710.jpg from 7, Image shape: (28, 28), Label: 7\n",
            "Processed: 718.jpg from 7, Image shape: (28, 28), Label: 7\n",
            "Processed: 715.jpg from 7, Image shape: (28, 28), Label: 7\n",
            "Processed: 720.jpg from 7, Image shape: (28, 28), Label: 7\n",
            "Processed: 717.jpg from 7, Image shape: (28, 28), Label: 7\n",
            "Processed: 711.jpg from 7, Image shape: (28, 28), Label: 7\n",
            "Processed: 714.jpg from 7, Image shape: (28, 28), Label: 7\n",
            "Processed: 719.jpg from 7, Image shape: (28, 28), Label: 7\n",
            "Processed: 77.jpg from 7, Image shape: (28, 28), Label: 7\n",
            "Processed: 72.jpg from 7, Image shape: (28, 28), Label: 7\n",
            "Processed: 75.jpg from 7, Image shape: (28, 28), Label: 7\n",
            "Processed: 716.jpg from 7, Image shape: (28, 28), Label: 7\n",
            "Processed: 76.jpg from 7, Image shape: (28, 28), Label: 7\n",
            "Processed: 71.jpg from 7, Image shape: (28, 28), Label: 7\n",
            "Processed: 74.jpg from 7, Image shape: (28, 28), Label: 7\n",
            "Processed: 713.jpg from 7, Image shape: (28, 28), Label: 7\n",
            "Processed: 78.jpg from 7, Image shape: (28, 28), Label: 7\n",
            "Processed: 73.jpg from 7, Image shape: (28, 28), Label: 7\n",
            "Found directory: /content/drive/MyDrive/digit/Tests/3\n",
            "Processed: WhatsApp Image 2024-10-15 at 10.34.38 PM.jpeg from 3, Image shape: (28, 28), Label: 3\n",
            "Processed: WhatsApp Image 2024-10-15 at 10.34.26 PM (1).jpeg from 3, Image shape: (28, 28), Label: 3\n",
            "Processed: WhatsApp Image 2024-10-15 at 10.45.59 PM.jpeg from 3, Image shape: (28, 28), Label: 3\n",
            "Processed: WhatsApp Image 2024-10-15 at 10.39.57 PM (1).jpeg from 3, Image shape: (28, 28), Label: 3\n",
            "Processed: WhatsApp Image 2024-10-15 at 10.43.24 PM (2).jpeg from 3, Image shape: (28, 28), Label: 3\n",
            "Processed: WhatsApp Image 2024-10-15 at 10.43.25 PM (1).jpeg from 3, Image shape: (28, 28), Label: 3\n",
            "Processed: WhatsApp Image 2024-10-15 at 10.34.41 PM.jpeg from 3, Image shape: (28, 28), Label: 3\n",
            "Processed: WhatsApp Image 2024-10-15 at 10.43.23 PM (1).jpeg from 3, Image shape: (28, 28), Label: 3\n",
            "Processed: WhatsApp Image 2024-10-15 at 10.43.24 PM (1).jpeg from 3, Image shape: (28, 28), Label: 3\n",
            "Processed: WhatsApp Image 2024-10-15 at 10.43.24 PM.jpeg from 3, Image shape: (28, 28), Label: 3\n",
            "Processed: WhatsApp Image 2024-10-15 at 10.34.32 PM.jpeg from 3, Image shape: (28, 28), Label: 3\n",
            "Processed: WhatsApp Image 2024-10-15 at 10.39.57 PM (2).jpeg from 3, Image shape: (28, 28), Label: 3\n",
            "Processed: WhatsApp Image 2024-10-15 at 10.39.57 PM.jpeg from 3, Image shape: (28, 28), Label: 3\n",
            "Processed: WhatsApp Image 2024-10-15 at 10.34.35 PM.jpeg from 3, Image shape: (28, 28), Label: 3\n",
            "Processed: WhatsApp Image 2024-10-15 at 10.43.23 PM.jpeg from 3, Image shape: (28, 28), Label: 3\n",
            "Processed: WhatsApp Image 2024-10-15 at 10.43.25 PM.jpeg from 3, Image shape: (28, 28), Label: 3\n",
            "Processed: WhatsApp Image 2024-10-15 at 10.34.26 PM (2).jpeg from 3, Image shape: (28, 28), Label: 3\n",
            "Processed: WhatsApp Image 2024-10-15 at 10.39.58 PM.jpeg from 3, Image shape: (28, 28), Label: 3\n",
            "Processed: WhatsApp Image 2024-10-15 at 10.39.56 PM (2).jpeg from 3, Image shape: (28, 28), Label: 3\n",
            "Processed: WhatsApp Image 2024-10-15 at 10.39.56 PM (1).jpeg from 3, Image shape: (28, 28), Label: 3\n",
            "Found directory: /content/drive/MyDrive/digit/Tests/8\n",
            "Processed: 818.jpg from 8, Image shape: (28, 28), Label: 8\n",
            "Processed: 815.jpg from 8, Image shape: (28, 28), Label: 8\n",
            "Processed: 812.jpg from 8, Image shape: (28, 28), Label: 8\n",
            "Processed: 820.jpg from 8, Image shape: (28, 28), Label: 8\n",
            "Processed: 88.jpg from 8, Image shape: (28, 28), Label: 8\n",
            "Processed: 813.jpg from 8, Image shape: (28, 28), Label: 8\n",
            "Processed: 816.jpg from 8, Image shape: (28, 28), Label: 8\n",
            "Processed: 86.jpg from 8, Image shape: (28, 28), Label: 8\n",
            "Processed: 819.jpg from 8, Image shape: (28, 28), Label: 8\n",
            "Processed: 814.jpg from 8, Image shape: (28, 28), Label: 8\n",
            "Processed: 85.jpg from 8, Image shape: (28, 28), Label: 8\n",
            "Processed: 810.jpg from 8, Image shape: (28, 28), Label: 8\n",
            "Processed: 83.jpg from 8, Image shape: (28, 28), Label: 8\n",
            "Processed: 811.jpg from 8, Image shape: (28, 28), Label: 8\n",
            "Processed: 817.jpg from 8, Image shape: (28, 28), Label: 8\n",
            "Processed: 82.jpg from 8, Image shape: (28, 28), Label: 8\n",
            "Processed: 84.jpg from 8, Image shape: (28, 28), Label: 8\n",
            "Processed: 87.jpg from 8, Image shape: (28, 28), Label: 8\n",
            "Processed: 89.jpg from 8, Image shape: (28, 28), Label: 8\n",
            "Processed: 81.jpg from 8, Image shape: (28, 28), Label: 8\n",
            "Found directory: /content/drive/MyDrive/digit/Tests/0\n",
            "Processed: IMG_20241015_223626.jpg from 0, Image shape: (28, 28), Label: 0\n",
            "Processed: _storage_emulated_0_DCIM_CamScanner_IMG_20241015_223725.jpg from 0, Image shape: (28, 28), Label: 0\n",
            "Processed: IMG_20241015_224428.jpg from 0, Image shape: (28, 28), Label: 0\n",
            "Processed: IMG_20241015_223954.jpg from 0, Image shape: (28, 28), Label: 0\n",
            "Processed: IMG_20241015_224027.jpg from 0, Image shape: (28, 28), Label: 0\n",
            "Processed: IMG_20241015_223655.jpg from 0, Image shape: (28, 28), Label: 0\n",
            "Processed: IMG_20241015_224403.jpg from 0, Image shape: (28, 28), Label: 0\n",
            "Processed: IMG_20241015_223922.jpg from 0, Image shape: (28, 28), Label: 0\n",
            "Processed: IMG_20241015_223753.jpg from 0, Image shape: (28, 28), Label: 0\n",
            "Processed: IMG_20241015_224222.jpg from 0, Image shape: (28, 28), Label: 0\n",
            "Processed: IMG_20241015_224056.jpg from 0, Image shape: (28, 28), Label: 0\n",
            "Processed: IMG_20241015_224336.jpg from 0, Image shape: (28, 28), Label: 0\n",
            "Processed: IMG_20241015_223822.jpg from 0, Image shape: (28, 28), Label: 0\n",
            "Processed: IMG_20241015_224158.jpg from 0, Image shape: (28, 28), Label: 0\n",
            "Processed: IMG_20241015_224240.jpg from 0, Image shape: (28, 28), Label: 0\n",
            "Processed: IMG_20241015_224504.jpg from 0, Image shape: (28, 28), Label: 0\n",
            "Processed: _storage_emulated_0_DCIM_CamScanner_IMG_20241015_224536.jpg from 0, Image shape: (28, 28), Label: 0\n",
            "Processed: IMG_20241015_224133.jpg from 0, Image shape: (28, 28), Label: 0\n",
            "Processed: IMG_20241015_223848.jpg from 0, Image shape: (28, 28), Label: 0\n",
            "Processed: IMG_20241015_224313.jpg from 0, Image shape: (28, 28), Label: 0\n",
            "Found directory: /content/drive/MyDrive/digit/Tests/2\n",
            "Processed: 11.PNG from 2, Image shape: (28, 28), Label: 2\n",
            "Processed: 4.PNG from 2, Image shape: (28, 28), Label: 2\n",
            "Processed: 17.PNG from 2, Image shape: (28, 28), Label: 2\n",
            "Processed: 9.PNG from 2, Image shape: (28, 28), Label: 2\n",
            "Processed: 10.PNG from 2, Image shape: (28, 28), Label: 2\n",
            "Processed: 19.PNG from 2, Image shape: (28, 28), Label: 2\n",
            "Processed: 2.PNG from 2, Image shape: (28, 28), Label: 2\n",
            "Processed: 8.PNG from 2, Image shape: (28, 28), Label: 2\n",
            "Processed: 20.PNG from 2, Image shape: (28, 28), Label: 2\n",
            "Processed: 14.PNG from 2, Image shape: (28, 28), Label: 2\n",
            "Processed: 5.PNG from 2, Image shape: (28, 28), Label: 2\n",
            "Processed: 12.PNG from 2, Image shape: (28, 28), Label: 2\n",
            "Processed: 18.PNG from 2, Image shape: (28, 28), Label: 2\n",
            "Processed: 16.PNG from 2, Image shape: (28, 28), Label: 2\n",
            "Processed: 7.PNG from 2, Image shape: (28, 28), Label: 2\n",
            "Processed: 6.PNG from 2, Image shape: (28, 28), Label: 2\n",
            "Processed: 13.PNG from 2, Image shape: (28, 28), Label: 2\n",
            "Processed: 15.PNG from 2, Image shape: (28, 28), Label: 2\n",
            "Processed: 3.PNG from 2, Image shape: (28, 28), Label: 2\n",
            "Processed: 1.PNG from 2, Image shape: (28, 28), Label: 2\n",
            "Found directory: /content/drive/MyDrive/digit/Tests/4\n",
            "Processed: WhatsApp Image 2024-10-15 at 11.17.05 PM.jpeg from 4, Image shape: (28, 28), Label: 4\n",
            "Processed: WhatsApp Image 2024-10-15 at 11.17.11 PM (1).jpeg from 4, Image shape: (28, 28), Label: 4\n",
            "Processed: WhatsApp Image 2024-10-15 at 11.17.10 PM (1).jpeg from 4, Image shape: (28, 28), Label: 4\n",
            "Processed: WhatsApp Image 2024-10-15 at 11.17.06 PM (1).jpeg from 4, Image shape: (28, 28), Label: 4\n",
            "Processed: WhatsApp Image 2024-10-15 at 11.17.12 PM.jpeg from 4, Image shape: (28, 28), Label: 4\n",
            "Processed: WhatsApp Image 2024-10-15 at 11.17.11 PM.jpeg from 4, Image shape: (28, 28), Label: 4\n",
            "Processed: WhatsApp Image 2024-10-15 at 11.17.05 PM (2).jpeg from 4, Image shape: (28, 28), Label: 4\n",
            "Processed: WhatsApp Image 2024-10-15 at 11.17.05 PM (1).jpeg from 4, Image shape: (28, 28), Label: 4\n",
            "Processed: WhatsApp Image 2024-10-15 at 11.17.09 PM (1).jpeg from 4, Image shape: (28, 28), Label: 4\n",
            "Processed: WhatsApp Image 2024-10-15 at 11.17.07 PM (1).jpeg from 4, Image shape: (28, 28), Label: 4\n",
            "Processed: WhatsApp Image 2024-10-15 at 11.17.09 PM (2).jpeg from 4, Image shape: (28, 28), Label: 4\n",
            "Processed: WhatsApp Image 2024-10-15 at 11.17.06 PM.jpeg from 4, Image shape: (28, 28), Label: 4\n",
            "Processed: WhatsApp Image 2024-10-15 at 11.17.07 PM.jpeg from 4, Image shape: (28, 28), Label: 4\n",
            "Processed: WhatsApp Image 2024-10-15 at 11.17.08 PM.jpeg from 4, Image shape: (28, 28), Label: 4\n",
            "Processed: WhatsApp Image 2024-10-15 at 11.17.09 PM.jpeg from 4, Image shape: (28, 28), Label: 4\n",
            "Processed: WhatsApp Image 2024-10-15 at 11.17.10 PM.jpeg from 4, Image shape: (28, 28), Label: 4\n",
            "Processed: WhatsApp Image 2024-10-15 at 11.17.10 PM (2).jpeg from 4, Image shape: (28, 28), Label: 4\n",
            "Processed: WhatsApp Image 2024-10-15 at 11.17.08 PM (1).jpeg from 4, Image shape: (28, 28), Label: 4\n",
            "Processed: WhatsApp Image 2024-10-15 at 11.17.07 PM (2).jpeg from 4, Image shape: (28, 28), Label: 4\n",
            "Processed: WhatsApp Image 2024-10-15 at 11.17.11 PM (2).jpeg from 4, Image shape: (28, 28), Label: 4\n",
            "x_test shape: (200, 28, 28)\n",
            "y_test shape: (200,)\n"
          ]
        }
      ]
    },
    {
      "cell_type": "code",
      "source": [
        "x_test.shape\n"
      ],
      "metadata": {
        "colab": {
          "base_uri": "https://localhost:8080/"
        },
        "id": "Qdxnh2FZZgRM",
        "outputId": "de0b7d98-e024-4287-9734-9024a2ae0c7c"
      },
      "execution_count": null,
      "outputs": [
        {
          "output_type": "execute_result",
          "data": {
            "text/plain": [
              "(200, 28, 28)"
            ]
          },
          "metadata": {},
          "execution_count": 5
        }
      ]
    },
    {
      "cell_type": "code",
      "source": [
        "y_test.shape"
      ],
      "metadata": {
        "colab": {
          "base_uri": "https://localhost:8080/"
        },
        "id": "AL_yNfv1Z9u6",
        "outputId": "d48cedbe-426f-4a75-ce88-39adb2464a08"
      },
      "execution_count": null,
      "outputs": [
        {
          "output_type": "execute_result",
          "data": {
            "text/plain": [
              "(200,)"
            ]
          },
          "metadata": {},
          "execution_count": 6
        }
      ]
    },
    {
      "cell_type": "code",
      "source": [
        "#define the model\n",
        "model = Sequential([\n",
        "    Dense(128, activation='relu', input_shape=(400,)),\n",
        "    Dense(64, activation='relu'),\n",
        "    Dense(10, activation='softmax')\n",
        "])\n",
        "\n",
        "#compile the model\n",
        "model.compile(optimizer='adam',\n",
        "              loss='sparse_categorical_crossentropy',\n",
        "              metrics=['accuracy'])\n"
      ],
      "metadata": {
        "id": "hiAkV--9NMwz",
        "colab": {
          "base_uri": "https://localhost:8080/"
        },
        "outputId": "51c7f93f-ac9b-4b70-9ab9-5e9e3693fd00"
      },
      "execution_count": null,
      "outputs": [
        {
          "output_type": "stream",
          "name": "stderr",
          "text": [
            "/usr/local/lib/python3.11/dist-packages/keras/src/layers/core/dense.py:87: UserWarning: Do not pass an `input_shape`/`input_dim` argument to a layer. When using Sequential models, prefer using an `Input(shape)` object as the first layer in the model instead.\n",
            "  super().__init__(activity_regularizer=activity_regularizer, **kwargs)\n"
          ]
        }
      ]
    },
    {
      "cell_type": "code",
      "source": [
        "model.summary()"
      ],
      "metadata": {
        "colab": {
          "base_uri": "https://localhost:8080/",
          "height": 238
        },
        "id": "DTi3w7OXPppN",
        "outputId": "0b929711-e105-4e13-8bdd-0fe7496867ad"
      },
      "execution_count": null,
      "outputs": [
        {
          "output_type": "display_data",
          "data": {
            "text/plain": [
              "\u001b[1mModel: \"sequential\"\u001b[0m\n"
            ],
            "text/html": [
              "<pre style=\"white-space:pre;overflow-x:auto;line-height:normal;font-family:Menlo,'DejaVu Sans Mono',consolas,'Courier New',monospace\"><span style=\"font-weight: bold\">Model: \"sequential\"</span>\n",
              "</pre>\n"
            ]
          },
          "metadata": {}
        },
        {
          "output_type": "display_data",
          "data": {
            "text/plain": [
              "┏━━━━━━━━━━━━━━━━━━━━━━━━━━━━━━━━━┳━━━━━━━━━━━━━━━━━━━━━━━━┳━━━━━━━━━━━━━━━┓\n",
              "┃\u001b[1m \u001b[0m\u001b[1mLayer (type)                   \u001b[0m\u001b[1m \u001b[0m┃\u001b[1m \u001b[0m\u001b[1mOutput Shape          \u001b[0m\u001b[1m \u001b[0m┃\u001b[1m \u001b[0m\u001b[1m      Param #\u001b[0m\u001b[1m \u001b[0m┃\n",
              "┡━━━━━━━━━━━━━━━━━━━━━━━━━━━━━━━━━╇━━━━━━━━━━━━━━━━━━━━━━━━╇━━━━━━━━━━━━━━━┩\n",
              "│ dense (\u001b[38;5;33mDense\u001b[0m)                   │ (\u001b[38;5;45mNone\u001b[0m, \u001b[38;5;34m128\u001b[0m)            │        \u001b[38;5;34m51,328\u001b[0m │\n",
              "├─────────────────────────────────┼────────────────────────┼───────────────┤\n",
              "│ dense_1 (\u001b[38;5;33mDense\u001b[0m)                 │ (\u001b[38;5;45mNone\u001b[0m, \u001b[38;5;34m64\u001b[0m)             │         \u001b[38;5;34m8,256\u001b[0m │\n",
              "├─────────────────────────────────┼────────────────────────┼───────────────┤\n",
              "│ dense_2 (\u001b[38;5;33mDense\u001b[0m)                 │ (\u001b[38;5;45mNone\u001b[0m, \u001b[38;5;34m10\u001b[0m)             │           \u001b[38;5;34m650\u001b[0m │\n",
              "└─────────────────────────────────┴────────────────────────┴───────────────┘\n"
            ],
            "text/html": [
              "<pre style=\"white-space:pre;overflow-x:auto;line-height:normal;font-family:Menlo,'DejaVu Sans Mono',consolas,'Courier New',monospace\">┏━━━━━━━━━━━━━━━━━━━━━━━━━━━━━━━━━┳━━━━━━━━━━━━━━━━━━━━━━━━┳━━━━━━━━━━━━━━━┓\n",
              "┃<span style=\"font-weight: bold\"> Layer (type)                    </span>┃<span style=\"font-weight: bold\"> Output Shape           </span>┃<span style=\"font-weight: bold\">       Param # </span>┃\n",
              "┡━━━━━━━━━━━━━━━━━━━━━━━━━━━━━━━━━╇━━━━━━━━━━━━━━━━━━━━━━━━╇━━━━━━━━━━━━━━━┩\n",
              "│ dense (<span style=\"color: #0087ff; text-decoration-color: #0087ff\">Dense</span>)                   │ (<span style=\"color: #00d7ff; text-decoration-color: #00d7ff\">None</span>, <span style=\"color: #00af00; text-decoration-color: #00af00\">128</span>)            │        <span style=\"color: #00af00; text-decoration-color: #00af00\">51,328</span> │\n",
              "├─────────────────────────────────┼────────────────────────┼───────────────┤\n",
              "│ dense_1 (<span style=\"color: #0087ff; text-decoration-color: #0087ff\">Dense</span>)                 │ (<span style=\"color: #00d7ff; text-decoration-color: #00d7ff\">None</span>, <span style=\"color: #00af00; text-decoration-color: #00af00\">64</span>)             │         <span style=\"color: #00af00; text-decoration-color: #00af00\">8,256</span> │\n",
              "├─────────────────────────────────┼────────────────────────┼───────────────┤\n",
              "│ dense_2 (<span style=\"color: #0087ff; text-decoration-color: #0087ff\">Dense</span>)                 │ (<span style=\"color: #00d7ff; text-decoration-color: #00d7ff\">None</span>, <span style=\"color: #00af00; text-decoration-color: #00af00\">10</span>)             │           <span style=\"color: #00af00; text-decoration-color: #00af00\">650</span> │\n",
              "└─────────────────────────────────┴────────────────────────┴───────────────┘\n",
              "</pre>\n"
            ]
          },
          "metadata": {}
        },
        {
          "output_type": "display_data",
          "data": {
            "text/plain": [
              "\u001b[1m Total params: \u001b[0m\u001b[38;5;34m60,234\u001b[0m (235.29 KB)\n"
            ],
            "text/html": [
              "<pre style=\"white-space:pre;overflow-x:auto;line-height:normal;font-family:Menlo,'DejaVu Sans Mono',consolas,'Courier New',monospace\"><span style=\"font-weight: bold\"> Total params: </span><span style=\"color: #00af00; text-decoration-color: #00af00\">60,234</span> (235.29 KB)\n",
              "</pre>\n"
            ]
          },
          "metadata": {}
        },
        {
          "output_type": "display_data",
          "data": {
            "text/plain": [
              "\u001b[1m Trainable params: \u001b[0m\u001b[38;5;34m60,234\u001b[0m (235.29 KB)\n"
            ],
            "text/html": [
              "<pre style=\"white-space:pre;overflow-x:auto;line-height:normal;font-family:Menlo,'DejaVu Sans Mono',consolas,'Courier New',monospace\"><span style=\"font-weight: bold\"> Trainable params: </span><span style=\"color: #00af00; text-decoration-color: #00af00\">60,234</span> (235.29 KB)\n",
              "</pre>\n"
            ]
          },
          "metadata": {}
        },
        {
          "output_type": "display_data",
          "data": {
            "text/plain": [
              "\u001b[1m Non-trainable params: \u001b[0m\u001b[38;5;34m0\u001b[0m (0.00 B)\n"
            ],
            "text/html": [
              "<pre style=\"white-space:pre;overflow-x:auto;line-height:normal;font-family:Menlo,'DejaVu Sans Mono',consolas,'Courier New',monospace\"><span style=\"font-weight: bold\"> Non-trainable params: </span><span style=\"color: #00af00; text-decoration-color: #00af00\">0</span> (0.00 B)\n",
              "</pre>\n"
            ]
          },
          "metadata": {}
        }
      ]
    },
    {
      "cell_type": "code",
      "source": [
        "#train the model\n",
        "print(\"Original shape of X:\", X.shape)\n",
        "\n",
        "X_reshaped = X.reshape(-1, 20, 20)\n",
        "print(\"Shape of X after reshaping to (5000, 28, 28):\", X_reshaped.shape)\n",
        "\n",
        "# Flatten X to (5000, 784)\n",
        "X_flattened = X_reshaped.reshape(-1, 400)\n",
        "print(\"Shape of X after flattening to (5000, 400):\", X_flattened.shape)\n",
        "\n"
      ],
      "metadata": {
        "colab": {
          "base_uri": "https://localhost:8080/"
        },
        "id": "jTbrhC4sRTe5",
        "outputId": "25a9cc0a-b70f-4335-88f8-c3bec59ac26c"
      },
      "execution_count": null,
      "outputs": [
        {
          "output_type": "stream",
          "name": "stdout",
          "text": [
            "Original shape of X: (5000, 400)\n",
            "Shape of X after reshaping to (5000, 28, 28): (5000, 20, 20)\n",
            "Shape of X after flattening to (5000, 400): (5000, 400)\n"
          ]
        }
      ]
    },
    {
      "cell_type": "code",
      "source": [
        "t_model = model.fit(X_flattened, y, epochs=10, validation_split=0.2)"
      ],
      "metadata": {
        "colab": {
          "base_uri": "https://localhost:8080/"
        },
        "id": "rs3i84gFV-Yi",
        "outputId": "5d5736ff-661d-4d34-dc8f-a868a3429a09"
      },
      "execution_count": null,
      "outputs": [
        {
          "output_type": "stream",
          "name": "stdout",
          "text": [
            "Epoch 1/10\n",
            "\u001b[1m125/125\u001b[0m \u001b[32m━━━━━━━━━━━━━━━━━━━━\u001b[0m\u001b[37m\u001b[0m \u001b[1m2s\u001b[0m 7ms/step - accuracy: 0.6413 - loss: 1.3157 - val_accuracy: 0.0000e+00 - val_loss: 9.3512\n",
            "Epoch 2/10\n",
            "\u001b[1m125/125\u001b[0m \u001b[32m━━━━━━━━━━━━━━━━━━━━\u001b[0m\u001b[37m\u001b[0m \u001b[1m1s\u001b[0m 5ms/step - accuracy: 0.9363 - loss: 0.2252 - val_accuracy: 0.0000e+00 - val_loss: 10.6568\n",
            "Epoch 3/10\n",
            "\u001b[1m125/125\u001b[0m \u001b[32m━━━━━━━━━━━━━━━━━━━━\u001b[0m\u001b[37m\u001b[0m \u001b[1m1s\u001b[0m 4ms/step - accuracy: 0.9608 - loss: 0.1426 - val_accuracy: 0.0000e+00 - val_loss: 10.9776\n",
            "Epoch 4/10\n",
            "\u001b[1m125/125\u001b[0m \u001b[32m━━━━━━━━━━━━━━━━━━━━\u001b[0m\u001b[37m\u001b[0m \u001b[1m1s\u001b[0m 5ms/step - accuracy: 0.9673 - loss: 0.1148 - val_accuracy: 0.0000e+00 - val_loss: 11.6341\n",
            "Epoch 5/10\n",
            "\u001b[1m125/125\u001b[0m \u001b[32m━━━━━━━━━━━━━━━━━━━━\u001b[0m\u001b[37m\u001b[0m \u001b[1m0s\u001b[0m 4ms/step - accuracy: 0.9784 - loss: 0.0803 - val_accuracy: 0.0000e+00 - val_loss: 11.8249\n",
            "Epoch 6/10\n",
            "\u001b[1m125/125\u001b[0m \u001b[32m━━━━━━━━━━━━━━━━━━━━\u001b[0m\u001b[37m\u001b[0m \u001b[1m1s\u001b[0m 4ms/step - accuracy: 0.9873 - loss: 0.0572 - val_accuracy: 0.0000e+00 - val_loss: 12.2736\n",
            "Epoch 7/10\n",
            "\u001b[1m125/125\u001b[0m \u001b[32m━━━━━━━━━━━━━━━━━━━━\u001b[0m\u001b[37m\u001b[0m \u001b[1m1s\u001b[0m 4ms/step - accuracy: 0.9860 - loss: 0.0489 - val_accuracy: 0.0000e+00 - val_loss: 12.2499\n",
            "Epoch 8/10\n",
            "\u001b[1m125/125\u001b[0m \u001b[32m━━━━━━━━━━━━━━━━━━━━\u001b[0m\u001b[37m\u001b[0m \u001b[1m1s\u001b[0m 5ms/step - accuracy: 0.9915 - loss: 0.0412 - val_accuracy: 0.0000e+00 - val_loss: 13.3891\n",
            "Epoch 9/10\n",
            "\u001b[1m125/125\u001b[0m \u001b[32m━━━━━━━━━━━━━━━━━━━━\u001b[0m\u001b[37m\u001b[0m \u001b[1m2s\u001b[0m 7ms/step - accuracy: 0.9935 - loss: 0.0276 - val_accuracy: 0.0000e+00 - val_loss: 13.9357\n",
            "Epoch 10/10\n",
            "\u001b[1m125/125\u001b[0m \u001b[32m━━━━━━━━━━━━━━━━━━━━\u001b[0m\u001b[37m\u001b[0m \u001b[1m1s\u001b[0m 6ms/step - accuracy: 0.9972 - loss: 0.0188 - val_accuracy: 0.0000e+00 - val_loss: 14.4496\n"
          ]
        }
      ]
    },
    {
      "cell_type": "code",
      "source": [
        "#plot train accuracy\n",
        "plt.plot(t_model.history['accuracy'], label='accuracy')\n",
        "plt.plot(t_model.history['val_accuracy'], label='val_accuracy')\n",
        "plt.xlabel('Epoch')\n",
        "plt.ylabel('Accuracy')\n",
        "plt.ylim([0, 1])\n",
        "plt.legend(loc='lower right')\n",
        "plt.show()"
      ],
      "metadata": {
        "colab": {
          "base_uri": "https://localhost:8080/",
          "height": 455
        },
        "id": "_20qTbT0XYjX",
        "outputId": "6df6c27c-5b88-415d-a4c4-fe393eaea934"
      },
      "execution_count": null,
      "outputs": [
        {
          "output_type": "display_data",
          "data": {
            "text/plain": [
              "<Figure size 640x480 with 1 Axes>"
            ],
            "image/png": "[encoded data removed]"
          },
          "metadata": {}
        }
      ]
    },
    {
      "cell_type": "code",
      "source": [
        "print(\"Original shape of X:\", x_test.shape)\n",
        "\n",
        "\n",
        "x_test_reshaped = x_test.reshape(-1, 20, 20)\n",
        "print(\"Shape of X after reshaping to (200, 28, 28):\", x_test_reshaped.shape)\n",
        "\n",
        "# Flatten X to (5000, 784)\n",
        "x_test_flattened = x_test_reshaped.reshape(-1, 400)\n",
        "print(\"Shape of X after flattening to (5000, 400):\", x_test_flattened.shape)"
      ],
      "metadata": {
        "colab": {
          "base_uri": "https://localhost:8080/"
        },
        "id": "TO7xxr2AYf9t",
        "outputId": "4373cca7-8c29-42d2-e0a2-bfac6011dfef"
      },
      "execution_count": null,
      "outputs": [
        {
          "output_type": "stream",
          "name": "stdout",
          "text": [
            "Original shape of X: (200, 28, 28)\n",
            "Shape of X after reshaping to (200, 28, 28): (392, 20, 20)\n",
            "Shape of X after flattening to (5000, 400): (392, 400)\n"
          ]
        }
      ]
    },
    {
      "cell_type": "code",
      "source": [
        "x_test_flattened = x_test_flattened[:200]\n",
        "test_loss, test_accuracy = model.evaluate(x_test_flattened, y_test)\n",
        "print(\"Test Loss:\", test_loss)\n",
        "print(\"Test Accuracy:\", test_accuracy)"
      ],
      "metadata": {
        "colab": {
          "base_uri": "https://localhost:8080/"
        },
        "id": "cFTGe3Pna1Uo",
        "outputId": "999dcfe4-1f1a-49ef-d678-6a7563630918"
      },
      "execution_count": null,
      "outputs": [
        {
          "output_type": "stream",
          "name": "stdout",
          "text": [
            "\u001b[1m7/7\u001b[0m \u001b[32m━━━━━━━━━━━━━━━━━━━━\u001b[0m\u001b[37m\u001b[0m \u001b[1m0s\u001b[0m 9ms/step - accuracy: 0.0732 - loss: 5870.4668      \n",
            "Test Loss: 6213.92431640625\n",
            "Test Accuracy: 0.10000000149011612\n"
          ]
        }
      ]
    },
    {
      "cell_type": "code",
      "source": [
        "import warnings\n",
        "warnings.simplefilter(action='ignore', category=FutureWarning)\n",
        "\n",
        "\n",
        "m, _, n = x_test.shape\n",
        "\n",
        "fig, axes = plt.subplots(8,8, figsize=(5,5))\n",
        "fig.tight_layout(pad=0.13,rect=[0, 0.03, 1, 0.91]) #[left, bottom, right, top]\n",
        "\n",
        "#fig.tight_layout(pad=0.5)\n",
        "\n",
        "for i,ax in enumerate(axes.flat):\n",
        "    # Select random indices\n",
        "    random_index = np.random.randint(m)\n",
        "\n",
        "    # Select rows corresponding to the random indices and\n",
        "    # reshape the image\n",
        "    x_test_random_reshaped = x_test[random_index].reshape((28,28)).T\n",
        "\n",
        "    # Display the image\n",
        "    ax.imshow(x_test_random_reshaped, cmap='gray')\n",
        "\n",
        "    # Display the label above the image\n",
        "    ax.set_title(y_test[random_index])\n",
        "    ax.set_axis_off()\n",
        "    fig.suptitle(\"Label, image\", fontsize=14)"
      ],
      "metadata": {
        "colab": {
          "base_uri": "https://localhost:8080/",
          "height": 486
        },
        "id": "D6UPa0E6ibAi",
        "outputId": "3583aa2a-f908-46d2-814e-5ccfc641683d"
      },
      "execution_count": null,
      "outputs": [
        {
          "output_type": "display_data",
          "data": {
            "text/plain": [
              "<Figure size 500x500 with 64 Axes>"
            ],
            "image/png": "[encoded data removed]"
          },
          "metadata": {}
        }
      ]
    }
  ]
}